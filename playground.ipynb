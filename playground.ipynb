{
 "cells": [
  {
   "cell_type": "code",
   "execution_count": null,
   "metadata": {},
   "outputs": [],
   "source": [
    "import d_expanse.d_exp_simple as dxp\n",
    "from gen_utils import k_clustering as k_means\n",
    "import seaborn as sn\n",
    "import pandas as pd"
   ]
  },
  {
   "cell_type": "code",
   "execution_count": null,
   "metadata": {},
   "outputs": [],
   "source": [
    "model, country_df, tech_df = dxp.run_d_expanse()"
   ]
  },
  {
   "cell_type": "code",
   "execution_count": null,
   "metadata": {},
   "outputs": [],
   "source": [
    "elec_demand = (\n",
    "        country_df.loc[\"ElSupplied_annual_central\"][\"Value\"]\n",
    "        - tech_df.loc[\"Actual_generation\", \"Storage\"]\n",
    "        - country_df.loc[\"Distribution_losses\"][\"Value\"]\n",
    "    )\n",
    "k_ratio_y_d, demand_y_d_h = k_means.get_demand_shape(model.Years, model.DxpDays, elec_demand)\n",
    "elec_supplied_ratio_y0 = k_means.get_supplied_ratio_y_d(demand_y_d_h, k_ratio_y_d, model.DxpDays, model.Years.first())"
   ]
  },
  {
   "cell_type": "code",
   "execution_count": null,
   "metadata": {},
   "outputs": [],
   "source": [
    "imp_cap_y0 = model.imp_p_nom[\"Import\",1990].value\n",
    "exp_cap_y0 = model.exp_p_nom[\"Export\",1990].value\n",
    "line_cap_y0 = model.line_p_nom[\"Line\",1990].value\n",
    "print(\"Import cap:\", imp_cap_y0,\n",
    "      \"Export cap:\", exp_cap_y0,\n",
    "      \"Line cap:\", line_cap_y0, \"in GW\")"
   ]
  },
  {
   "cell_type": "code",
   "execution_count": null,
   "metadata": {},
   "outputs": [],
   "source": [
    "hourly = pd.DataFrame()\n",
    "hourly[\"Import\"] = pd.Series(model.imp_p.extract_values(), name=model.imp_p.name)\n",
    "hourly[\"Export\"] = model.exp_p.extract_values().values()\n",
    "hourly.plot()\n"
   ]
  },
  {
   "cell_type": "code",
   "execution_count": null,
   "metadata": {},
   "outputs": [],
   "source": [
    "yearly = pd.DataFrame(columns=hourly.columns)\n",
    "# hourly.droplevel(0).index.get_level_values(0)\n",
    "names = hourly.index.get_level_values(0).unique()\n",
    "years = model.Years\n",
    "days = model.DxpDays\n",
    "hours = model.DxpHours\n",
    "for c in hourly.columns:\n",
    "    for n in names:\n",
    "        for y in years:\n",
    "            yearly.loc[y,c] = sum([hourly.loc[(\"Import\", y,d,h),c]/ 1000*(365 * k_ratio_y_d[y][d]) for d in model.DxpDays for h in model.DxpHours])"
   ]
  },
  {
   "cell_type": "code",
   "execution_count": null,
   "metadata": {},
   "outputs": [],
   "source": [
    "yearly.plot()"
   ]
  },
  {
   "cell_type": "code",
   "execution_count": null,
   "metadata": {},
   "outputs": [],
   "source": [
    "trade_cap = pd.DataFrame()\n",
    "trade_cap[\"DXP Import\"] = yearly[\"Import\"]\n",
    "trade_cap[\"DXP Export\"] = yearly[\"Export\"]\n",
    "trade_cap[\"Actual Import\"] = country_df.loc[\"Actual_import\"][\"Value\"]\n",
    "trade_cap[\"Actual Export\"] = country_df.loc[\"Actual_export\"][\"Value\"]\n",
    "trade_cap.plot()"
   ]
  },
  {
   "cell_type": "code",
   "execution_count": null,
   "metadata": {},
   "outputs": [],
   "source": [
    "trade_cap[\"Actual Imp+Exp\"] = trade_cap[\"Actual Import\"] + trade_cap[\"Actual Export\"]\n",
    "trade_cap[\"DXP Imp+Exp\"] = trade_cap[\"DXP Import\"] + trade_cap[\"DXP Export\"]\n",
    "ax = trade_cap.plot.line()\n",
    "ax.legend(bbox_to_anchor=(1.1, 1.05))"
   ]
  },
  {
   "cell_type": "code",
   "execution_count": null,
   "metadata": {},
   "outputs": [],
   "source": [
    "trade_cap[\"Max 'actual' trade capacity\"] = tech_df.loc[\"Actual_capacity\"][\"Import\"]*365*24/1000\n",
    "trade_cap[\"Actual Imp+Exp\"] = trade_cap[\"Actual Import\"] + trade_cap[\"Actual Export\"]\n",
    "trade_cap[\"DXP Imp+Exp\"] = trade_cap[\"DXP Import\"] + trade_cap[\"DXP Export\"]\n",
    "trade_cap[\"2010 ENTSO-e Pmax\"] = 9.9*365*24/1000 # 9 GW\n",
    "trade_cap[\"2012 ENTSO-e NTC MAX\"] = 6.54*365*24/1000 # \n",
    "ax = trade_cap.plot.line()\n",
    "ax.legend(bbox_to_anchor=(1.1, 1.05))"
   ]
  },
  {
   "cell_type": "code",
   "execution_count": null,
   "metadata": {},
   "outputs": [],
   "source": [
    "model.line_p_nom.pprint()"
   ]
  },
  {
   "cell_type": "code",
   "execution_count": 1,
   "metadata": {},
   "outputs": [],
   "source": [
    "import data.unit_conversions as conversion\n",
    "import pandas as pd\n",
    "\n",
    "country='AUT'\n",
    "technologies=['HardCoal']\n",
    "\n",
    "years=range(1990,2020)\n",
    "\n",
    "#Read technology files\n",
    "input_files=[]\n",
    "for t in technologies:\n",
    "    input_files.append(pd.read_csv('/Users/ruiziv/switchdrive/ACCURACY/D-EXPANSE/AUT/Technologies/{0}_{1}.csv'.format(country,t),skiprows=4))\n",
    "input_df=pd.concat(input_files)"
   ]
  },
  {
   "cell_type": "code",
   "execution_count": 2,
   "metadata": {},
   "outputs": [],
   "source": [
    "###Convert units in technology dataframe and reindex to match the current df/Excel format\n",
    "converted_df=input_df.apply(conversion.convert_units,new_power='GW', new_energy='TWh', axis=1)\n",
    "converted_df.to_csv(\"/Users/ruiziv/Downloads/just_energy.csv\")\n"
   ]
  },
  {
   "cell_type": "code",
   "execution_count": 3,
   "metadata": {},
   "outputs": [],
   "source": [
    "final_df=converted_df.apply(conversion.convert_currency,new_cy='EUR', deflator_country='local', axis=1)\n",
    "final_df.to_csv(\"/Users/ruiziv/Downloads/cost_energy.csv\")"
   ]
  }
 ],
 "metadata": {
  "kernelspec": {
   "display_name": "accuracyenv",
   "language": "python",
   "name": "python3"
  },
  "language_info": {
   "codemirror_mode": {
    "name": "ipython",
    "version": 3
   },
   "file_extension": ".py",
   "mimetype": "text/x-python",
   "name": "python",
   "nbconvert_exporter": "python",
   "pygments_lexer": "ipython3",
   "version": "3.10.8 (main, Nov  4 2022, 08:45:18) [Clang 12.0.0 ]"
  },
  "orig_nbformat": 4,
  "vscode": {
   "interpreter": {
    "hash": "4744633eb8f426103ab60e70c39a61516bb327a499576d15c60c80c82a47725b"
   }
  }
 },
 "nbformat": 4,
 "nbformat_minor": 2
}
