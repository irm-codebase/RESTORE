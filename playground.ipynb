{
 "cells": [
  {
   "cell_type": "code",
   "execution_count": 2,
   "metadata": {},
   "outputs": [],
   "source": [
    "import gen_utils.k_clustering as kmean\n",
    "import model_utils.configuration as cnf"
   ]
  },
  {
   "cell_type": "code",
   "execution_count": 5,
   "metadata": {},
   "outputs": [],
   "source": [
    "elec_demand_y = [cnf.DATA.get_annual(\"dem_elec\", \"actual_demand\", y) for y in cnf.YEARS]\n",
    "ratios, elec_demand_y_h = kmean.get_demand_shape(\"CHE\", cnf.YEARS, 2, elec_demand_y)"
   ]
  },
  {
   "cell_type": "code",
   "execution_count": 6,
   "metadata": {},
   "outputs": [
    {
     "data": {
      "text/plain": [
       "{1990: {0: None, 1: None, 2: None, 3: None, 4: None},\n",
       " 1991: {0: None, 1: None, 2: None, 3: None, 4: None},\n",
       " 1992: {0: None, 1: None, 2: None, 3: None, 4: None},\n",
       " 1993: {0: None, 1: None, 2: None, 3: None, 4: None},\n",
       " 1994: {0: None, 1: None, 2: None, 3: None, 4: None},\n",
       " 1995: {0: None, 1: None, 2: None, 3: None, 4: None},\n",
       " 1996: {0: None, 1: None, 2: None, 3: None, 4: None},\n",
       " 1997: {0: None, 1: None, 2: None, 3: None, 4: None},\n",
       " 1998: {0: None, 1: None, 2: None, 3: None, 4: None},\n",
       " 1999: {0: None, 1: None, 2: None, 3: None, 4: None},\n",
       " 2000: {0: None, 1: None, 2: None, 3: None, 4: None},\n",
       " 2001: {0: None, 1: None, 2: None, 3: None, 4: None},\n",
       " 2002: {0: None, 1: None, 2: None, 3: None, 4: None},\n",
       " 2003: {0: None, 1: None, 2: None, 3: None, 4: None},\n",
       " 2004: {0: None, 1: None, 2: None, 3: None, 4: None},\n",
       " 2005: {0: None, 1: None, 2: None, 3: None, 4: None},\n",
       " 2006: {0: None, 1: None, 2: None, 3: None, 4: None},\n",
       " 2007: {0: None, 1: None, 2: None, 3: None, 4: None},\n",
       " 2008: {0: None, 1: None, 2: None, 3: None, 4: None},\n",
       " 2009: {0: None, 1: None, 2: None, 3: None, 4: None},\n",
       " 2010: {0: None, 1: None, 2: None, 3: None, 4: None},\n",
       " 2011: {0: None, 1: None, 2: None, 3: None, 4: None},\n",
       " 2012: {0: None, 1: None, 2: None, 3: None, 4: None},\n",
       " 2013: {0: None, 1: None, 2: None, 3: None, 4: None},\n",
       " 2014: {0: None, 1: None, 2: None, 3: None, 4: None},\n",
       " 2015: {0: None, 1: None, 2: None, 3: None, 4: None},\n",
       " 2016: {0: None, 1: None, 2: None, 3: None, 4: None},\n",
       " 2017: {0: None, 1: None, 2: None, 3: None, 4: None},\n",
       " 2018: {0: None, 1: None, 2: None, 3: None, 4: None},\n",
       " 2019: {0: None, 1: None, 2: None, 3: None, 4: None}}"
      ]
     },
     "execution_count": 6,
     "metadata": {},
     "output_type": "execute_result"
    }
   ],
   "source": [
    "test = dict.fromkeys(cnf.YEARS, dict.fromkeys(range(5)))\n",
    "test"
   ]
  }
 ],
 "metadata": {
  "kernelspec": {
   "display_name": "accuracyenv",
   "language": "python",
   "name": "python3"
  },
  "language_info": {
   "codemirror_mode": {
    "name": "ipython",
    "version": 3
   },
   "file_extension": ".py",
   "mimetype": "text/x-python",
   "name": "python",
   "nbconvert_exporter": "python",
   "pygments_lexer": "ipython3",
   "version": "3.10.8"
  },
  "orig_nbformat": 4,
  "vscode": {
   "interpreter": {
    "hash": "4744633eb8f426103ab60e70c39a61516bb327a499576d15c60c80c82a47725b"
   }
  }
 },
 "nbformat": 4,
 "nbformat_minor": 2
}
