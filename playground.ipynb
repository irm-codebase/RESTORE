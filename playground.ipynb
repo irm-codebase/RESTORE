{
 "cells": [
  {
   "cell_type": "code",
   "execution_count": 1,
   "metadata": {},
   "outputs": [
    {
     "name": "stdout",
     "output_type": "stream",
     "text": [
      "D-EXPANSE module initialised\n"
     ]
    }
   ],
   "source": [
    "import d_expanse.d_exp_simple as dxp\n",
    "from gen_utils import k_clustering as k_means\n",
    "import seaborn as sn\n",
    "import pandas as pd"
   ]
  },
  {
   "cell_type": "code",
   "execution_count": 3,
   "metadata": {},
   "outputs": [
    {
     "ename": "KeyError",
     "evalue": "0",
     "output_type": "error",
     "traceback": [
      "\u001b[0;31m---------------------------------------------------------------------------\u001b[0m",
      "\u001b[0;31mKeyError\u001b[0m                                  Traceback (most recent call last)",
      "File \u001b[0;32m~/miniconda3/envs/accuracyenv/lib/python3.10/site-packages/pandas/core/indexes/base.py:3629\u001b[0m, in \u001b[0;36mIndex.get_loc\u001b[0;34m(self, key, method, tolerance)\u001b[0m\n\u001b[1;32m   3628\u001b[0m \u001b[39mtry\u001b[39;00m:\n\u001b[0;32m-> 3629\u001b[0m     \u001b[39mreturn\u001b[39;00m \u001b[39mself\u001b[39;49m\u001b[39m.\u001b[39;49m_engine\u001b[39m.\u001b[39;49mget_loc(casted_key)\n\u001b[1;32m   3630\u001b[0m \u001b[39mexcept\u001b[39;00m \u001b[39mKeyError\u001b[39;00m \u001b[39mas\u001b[39;00m err:\n",
      "File \u001b[0;32m~/miniconda3/envs/accuracyenv/lib/python3.10/site-packages/pandas/_libs/index.pyx:136\u001b[0m, in \u001b[0;36mpandas._libs.index.IndexEngine.get_loc\u001b[0;34m()\u001b[0m\n",
      "File \u001b[0;32m~/miniconda3/envs/accuracyenv/lib/python3.10/site-packages/pandas/_libs/index.pyx:163\u001b[0m, in \u001b[0;36mpandas._libs.index.IndexEngine.get_loc\u001b[0;34m()\u001b[0m\n",
      "File \u001b[0;32mpandas/_libs/hashtable_class_helper.pxi:2131\u001b[0m, in \u001b[0;36mpandas._libs.hashtable.Int64HashTable.get_item\u001b[0;34m()\u001b[0m\n",
      "File \u001b[0;32mpandas/_libs/hashtable_class_helper.pxi:2140\u001b[0m, in \u001b[0;36mpandas._libs.hashtable.Int64HashTable.get_item\u001b[0;34m()\u001b[0m\n",
      "\u001b[0;31mKeyError\u001b[0m: 0",
      "\nThe above exception was the direct cause of the following exception:\n",
      "\u001b[0;31mKeyError\u001b[0m                                  Traceback (most recent call last)",
      "Cell \u001b[0;32mIn[3], line 1\u001b[0m\n\u001b[0;32m----> 1\u001b[0m model, country_df, tech_df \u001b[39m=\u001b[39m dxp\u001b[39m.\u001b[39;49mrun_d_expanse()\n",
      "File \u001b[0;32m~/switchdrive/ACCURACY/RESTORE/d_expanse/d_exp_simple.py:565\u001b[0m, in \u001b[0;36mrun_d_expanse\u001b[0;34m()\u001b[0m\n\u001b[1;32m    563\u001b[0m cnf_model_parameters(model, country_df)\n\u001b[1;32m    564\u001b[0m cnf_model_variables(model)\n\u001b[0;32m--> 565\u001b[0m cnf_model_constraints(model, tech_df, country_df)\n\u001b[1;32m    566\u001b[0m cnf_model_objective(model, tech_df, country_df)\n\u001b[1;32m    568\u001b[0m opt \u001b[39m=\u001b[39m pyo\u001b[39m.\u001b[39mSolverFactory(\u001b[39m\"\u001b[39m\u001b[39mgurobi\u001b[39m\u001b[39m\"\u001b[39m, solver_io\u001b[39m=\u001b[39m\u001b[39m\"\u001b[39m\u001b[39mpython\u001b[39m\u001b[39m\"\u001b[39m)\n",
      "File \u001b[0;32m~/switchdrive/ACCURACY/RESTORE/d_expanse/d_exp_simple.py:156\u001b[0m, in \u001b[0;36mcnf_model_constraints\u001b[0;34m(mod, tech_df, country_df)\u001b[0m\n\u001b[1;32m    150\u001b[0m elec_demand \u001b[39m=\u001b[39m (\n\u001b[1;32m    151\u001b[0m     country_df\u001b[39m.\u001b[39mloc[\u001b[39m\"\u001b[39m\u001b[39mElSupplied_annual_central\u001b[39m\u001b[39m\"\u001b[39m][\u001b[39m\"\u001b[39m\u001b[39mValue\u001b[39m\u001b[39m\"\u001b[39m]\n\u001b[1;32m    152\u001b[0m     \u001b[39m-\u001b[39m tech_df\u001b[39m.\u001b[39mloc[\u001b[39m\"\u001b[39m\u001b[39mActual_generation\u001b[39m\u001b[39m\"\u001b[39m, \u001b[39m\"\u001b[39m\u001b[39mStorage\u001b[39m\u001b[39m\"\u001b[39m]\n\u001b[1;32m    153\u001b[0m     \u001b[39m-\u001b[39m country_df\u001b[39m.\u001b[39mloc[\u001b[39m\"\u001b[39m\u001b[39mDistribution_losses\u001b[39m\u001b[39m\"\u001b[39m][\u001b[39m\"\u001b[39m\u001b[39mValue\u001b[39m\u001b[39m\"\u001b[39m]\n\u001b[1;32m    154\u001b[0m )\n\u001b[1;32m    155\u001b[0m \u001b[39m# Ratio and demand shape obtained via k-means clustering\u001b[39;00m\n\u001b[0;32m--> 156\u001b[0m k_ratio_y_d, demand_y_d_h \u001b[39m=\u001b[39m k_means\u001b[39m.\u001b[39;49mget_demand_shape(mod\u001b[39m.\u001b[39;49mYears, mod\u001b[39m.\u001b[39;49mDxpDays, elec_demand)\n\u001b[1;32m    157\u001b[0m \u001b[39m# Ratio of electricity supplied in the first year (to make load curves fit actual demand)\u001b[39;00m\n\u001b[1;32m    158\u001b[0m elec_supplied_ratio_y0 \u001b[39m=\u001b[39m k_means\u001b[39m.\u001b[39mget_supplied_ratio_y_d(demand_y_d_h, k_ratio_y_d, mod\u001b[39m.\u001b[39mDxpDays, y_0)\n",
      "File \u001b[0;32m~/switchdrive/ACCURACY/RESTORE/gen_utils/k_clustering.py:123\u001b[0m, in \u001b[0;36mget_demand_shape\u001b[0;34m(years, days, hist_elec_demand)\u001b[0m\n\u001b[1;32m    121\u001b[0m     \u001b[39mfor\u001b[39;00m d \u001b[39min\u001b[39;00m days:\n\u001b[1;32m    122\u001b[0m         elec_supplied_y \u001b[39m+\u001b[39m\u001b[39m=\u001b[39m \u001b[39msum\u001b[39m(prof_demand_d_h[d, :]) \u001b[39m*\u001b[39m \u001b[39m365\u001b[39m \u001b[39m*\u001b[39m k_ratio_y_d[y][d] \u001b[39m/\u001b[39m \u001b[39m1000\u001b[39m\n\u001b[0;32m--> 123\u001b[0m     hist_prof_ratio_y \u001b[39m=\u001b[39m hist_elec_demand[i] \u001b[39m/\u001b[39m elec_supplied_y\n\u001b[1;32m    124\u001b[0m     demand_y_d_h[y] \u001b[39m=\u001b[39m prof_demand_d_h \u001b[39m*\u001b[39m hist_prof_ratio_y\n\u001b[1;32m    126\u001b[0m \u001b[39mreturn\u001b[39;00m k_ratio_y_d, demand_y_d_h\n",
      "File \u001b[0;32m~/miniconda3/envs/accuracyenv/lib/python3.10/site-packages/pandas/core/series.py:958\u001b[0m, in \u001b[0;36mSeries.__getitem__\u001b[0;34m(self, key)\u001b[0m\n\u001b[1;32m    955\u001b[0m     \u001b[39mreturn\u001b[39;00m \u001b[39mself\u001b[39m\u001b[39m.\u001b[39m_values[key]\n\u001b[1;32m    957\u001b[0m \u001b[39melif\u001b[39;00m key_is_scalar:\n\u001b[0;32m--> 958\u001b[0m     \u001b[39mreturn\u001b[39;00m \u001b[39mself\u001b[39;49m\u001b[39m.\u001b[39;49m_get_value(key)\n\u001b[1;32m    960\u001b[0m \u001b[39mif\u001b[39;00m is_hashable(key):\n\u001b[1;32m    961\u001b[0m     \u001b[39m# Otherwise index.get_value will raise InvalidIndexError\u001b[39;00m\n\u001b[1;32m    962\u001b[0m     \u001b[39mtry\u001b[39;00m:\n\u001b[1;32m    963\u001b[0m         \u001b[39m# For labels that don't resolve as scalars like tuples and frozensets\u001b[39;00m\n",
      "File \u001b[0;32m~/miniconda3/envs/accuracyenv/lib/python3.10/site-packages/pandas/core/series.py:1069\u001b[0m, in \u001b[0;36mSeries._get_value\u001b[0;34m(self, label, takeable)\u001b[0m\n\u001b[1;32m   1066\u001b[0m     \u001b[39mreturn\u001b[39;00m \u001b[39mself\u001b[39m\u001b[39m.\u001b[39m_values[label]\n\u001b[1;32m   1068\u001b[0m \u001b[39m# Similar to Index.get_value, but we do not fall back to positional\u001b[39;00m\n\u001b[0;32m-> 1069\u001b[0m loc \u001b[39m=\u001b[39m \u001b[39mself\u001b[39;49m\u001b[39m.\u001b[39;49mindex\u001b[39m.\u001b[39;49mget_loc(label)\n\u001b[1;32m   1070\u001b[0m \u001b[39mreturn\u001b[39;00m \u001b[39mself\u001b[39m\u001b[39m.\u001b[39mindex\u001b[39m.\u001b[39m_get_values_for_loc(\u001b[39mself\u001b[39m, loc, label)\n",
      "File \u001b[0;32m~/miniconda3/envs/accuracyenv/lib/python3.10/site-packages/pandas/core/indexes/base.py:3631\u001b[0m, in \u001b[0;36mIndex.get_loc\u001b[0;34m(self, key, method, tolerance)\u001b[0m\n\u001b[1;32m   3629\u001b[0m     \u001b[39mreturn\u001b[39;00m \u001b[39mself\u001b[39m\u001b[39m.\u001b[39m_engine\u001b[39m.\u001b[39mget_loc(casted_key)\n\u001b[1;32m   3630\u001b[0m \u001b[39mexcept\u001b[39;00m \u001b[39mKeyError\u001b[39;00m \u001b[39mas\u001b[39;00m err:\n\u001b[0;32m-> 3631\u001b[0m     \u001b[39mraise\u001b[39;00m \u001b[39mKeyError\u001b[39;00m(key) \u001b[39mfrom\u001b[39;00m \u001b[39merr\u001b[39;00m\n\u001b[1;32m   3632\u001b[0m \u001b[39mexcept\u001b[39;00m \u001b[39mTypeError\u001b[39;00m:\n\u001b[1;32m   3633\u001b[0m     \u001b[39m# If we have a listlike key, _check_indexing_error will raise\u001b[39;00m\n\u001b[1;32m   3634\u001b[0m     \u001b[39m#  InvalidIndexError. Otherwise we fall through and re-raise\u001b[39;00m\n\u001b[1;32m   3635\u001b[0m     \u001b[39m#  the TypeError.\u001b[39;00m\n\u001b[1;32m   3636\u001b[0m     \u001b[39mself\u001b[39m\u001b[39m.\u001b[39m_check_indexing_error(key)\n",
      "\u001b[0;31mKeyError\u001b[0m: 0"
     ]
    }
   ],
   "source": [
    "model, country_df, tech_df = dxp.run_d_expanse()"
   ]
  },
  {
   "cell_type": "code",
   "execution_count": null,
   "metadata": {},
   "outputs": [],
   "source": [
    "elec_demand = (\n",
    "        country_df.loc[\"ElSupplied_annual_central\"][\"Value\"]\n",
    "        - tech_df.loc[\"Actual_generation\", \"Storage\"]\n",
    "        - country_df.loc[\"Distribution_losses\"][\"Value\"]\n",
    "    )\n",
    "k_ratio_y_d, demand_y_d_h = k_means.get_demand_shape(model.Years, model.DxpDays, elec_demand)\n",
    "elec_supplied_ratio_y0 = k_means.get_supplied_ratio_y_d(demand_y_d_h, k_ratio_y_d, model.DxpDays, model.Years.first())"
   ]
  },
  {
   "cell_type": "code",
   "execution_count": null,
   "metadata": {},
   "outputs": [],
   "source": [
    "imp_cap_y0 = model.imp_p_nom[\"Import\",1990].value\n",
    "exp_cap_y0 = model.exp_p_nom[\"Export\",1990].value\n",
    "line_cap_y0 = model.line_p_nom[\"Line\",1990].value\n",
    "print(\"Import cap:\", imp_cap_y0,\n",
    "      \"Export cap:\", exp_cap_y0,\n",
    "      \"Line cap:\", line_cap_y0, \"in GW\")"
   ]
  },
  {
   "cell_type": "code",
   "execution_count": null,
   "metadata": {},
   "outputs": [],
   "source": [
    "hourly = pd.DataFrame()\n",
    "hourly[\"Import\"] = pd.Series(model.imp_p.extract_values(), name=model.imp_p.name)\n",
    "hourly[\"Export\"] = model.exp_p.extract_values().values()\n",
    "hourly.plot()\n"
   ]
  },
  {
   "cell_type": "code",
   "execution_count": null,
   "metadata": {},
   "outputs": [],
   "source": [
    "yearly = pd.DataFrame(columns=hourly.columns)\n",
    "# hourly.droplevel(0).index.get_level_values(0)\n",
    "names = hourly.index.get_level_values(0).unique()\n",
    "years = model.Years\n",
    "days = model.DxpDays\n",
    "hours = model.DxpHours\n",
    "for c in hourly.columns:\n",
    "    for n in names:\n",
    "        for y in years:\n",
    "            yearly.loc[y,c] = sum([hourly.loc[(\"Import\", y,d,h),c]/ 1000*(365 * k_ratio_y_d[y][d]) for d in model.DxpDays for h in model.DxpHours])"
   ]
  },
  {
   "cell_type": "code",
   "execution_count": null,
   "metadata": {},
   "outputs": [],
   "source": [
    "yearly.plot()"
   ]
  },
  {
   "cell_type": "code",
   "execution_count": null,
   "metadata": {},
   "outputs": [],
   "source": [
    "trade_cap = pd.DataFrame()\n",
    "trade_cap[\"DXP Import\"] = yearly[\"Import\"]\n",
    "trade_cap[\"DXP Export\"] = yearly[\"Export\"]\n",
    "trade_cap[\"Actual Import\"] = country_df.loc[\"Actual_import\"][\"Value\"]\n",
    "trade_cap[\"Actual Export\"] = country_df.loc[\"Actual_export\"][\"Value\"]\n",
    "trade_cap.plot()"
   ]
  },
  {
   "cell_type": "code",
   "execution_count": null,
   "metadata": {},
   "outputs": [],
   "source": [
    "trade_cap[\"Actual Imp+Exp\"] = trade_cap[\"Actual Import\"] + trade_cap[\"Actual Export\"]\n",
    "trade_cap[\"DXP Imp+Exp\"] = trade_cap[\"DXP Import\"] + trade_cap[\"DXP Export\"]\n",
    "ax = trade_cap.plot.line()\n",
    "ax.legend(bbox_to_anchor=(1.1, 1.05))"
   ]
  },
  {
   "cell_type": "code",
   "execution_count": null,
   "metadata": {},
   "outputs": [],
   "source": [
    "trade_cap[\"Max 'actual' trade capacity\"] = tech_df.loc[\"Actual_capacity\"][\"Import\"]*365*24/1000\n",
    "trade_cap[\"Actual Imp+Exp\"] = trade_cap[\"Actual Import\"] + trade_cap[\"Actual Export\"]\n",
    "trade_cap[\"DXP Imp+Exp\"] = trade_cap[\"DXP Import\"] + trade_cap[\"DXP Export\"]\n",
    "trade_cap[\"2010 ENTSO-e Pmax\"] = 9.9*365*24/1000 # 9 GW\n",
    "trade_cap[\"2012 ENTSO-e NTC MAX\"] = 6.54*365*24/1000 # \n",
    "ax = trade_cap.plot.line()\n",
    "ax.legend(bbox_to_anchor=(1.1, 1.05))"
   ]
  },
  {
   "cell_type": "code",
   "execution_count": null,
   "metadata": {},
   "outputs": [],
   "source": [
    "model.line_p_nom.pprint()"
   ]
  },
  {
   "cell_type": "code",
   "execution_count": 1,
   "metadata": {},
   "outputs": [],
   "source": [
    "import data.unit_conversions as conversion\n",
    "import pandas as pd\n",
    "\n",
    "country='AUT'\n",
    "technologies=['HardCoal']\n",
    "\n",
    "years=range(1990,2020)\n",
    "\n",
    "#Read technology files\n",
    "input_files=[]\n",
    "for t in technologies:\n",
    "    input_files.append(pd.read_csv('/Users/ruiziv/switchdrive/ACCURACY/D-EXPANSE/AUT/Technologies/{0}_{1}.csv'.format(country,t),skiprows=4))\n",
    "input_df=pd.concat(input_files)"
   ]
  },
  {
   "cell_type": "code",
   "execution_count": 2,
   "metadata": {},
   "outputs": [],
   "source": [
    "###Convert units in technology dataframe and reindex to match the current df/Excel format\n",
    "converted_df=input_df.apply(conversion.convert_units,new_power='GW', new_energy='TWh', axis=1)\n",
    "converted_df.to_csv(\"/Users/ruiziv/Downloads/just_energy.csv\")\n"
   ]
  },
  {
   "cell_type": "code",
   "execution_count": 3,
   "metadata": {},
   "outputs": [],
   "source": [
    "final_df=converted_df.apply(conversion.convert_currency,new_cy='EUR', deflator_country='local', axis=1)\n",
    "final_df.to_csv(\"/Users/ruiziv/Downloads/cost_energy.csv\")"
   ]
  }
 ],
 "metadata": {
  "kernelspec": {
   "display_name": "accuracyenv",
   "language": "python",
   "name": "python3"
  },
  "language_info": {
   "codemirror_mode": {
    "name": "ipython",
    "version": 3
   },
   "file_extension": ".py",
   "mimetype": "text/x-python",
   "name": "python",
   "nbconvert_exporter": "python",
   "pygments_lexer": "ipython3",
   "version": "3.10.8"
  },
  "orig_nbformat": 4,
  "vscode": {
   "interpreter": {
    "hash": "4744633eb8f426103ab60e70c39a61516bb327a499576d15c60c80c82a47725b"
   }
  }
 },
 "nbformat": 4,
 "nbformat_minor": 2
}
