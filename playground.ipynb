{
 "cells": [
  {
   "cell_type": "code",
   "execution_count": 1,
   "metadata": {},
   "outputs": [],
   "source": [
    "import pandas as pd\n",
    "from data import common_files"
   ]
  },
  {
   "cell_type": "code",
   "execution_count": 2,
   "metadata": {},
   "outputs": [],
   "source": [
    "common_files.deflator_file(\"/Users/ruiziv/Downloads/API_NY.GDP.DEFL.ZS.AD_DS2_en_excel_v2_5360685.xls\",\n",
    "                           \"/Users/ruiziv/Downloads/\")"
   ]
  },
  {
   "cell_type": "code",
   "execution_count": 3,
   "metadata": {},
   "outputs": [],
   "source": [
    "DEFLATOR_DF = pd.read_excel(\"/Users/ruiziv/Downloads/deflator.xlsx\", skiprows=4).set_index([\"Country\", \"Year\"])"
   ]
  },
  {
   "cell_type": "code",
   "execution_count": 11,
   "metadata": {},
   "outputs": [
    {
     "data": {
      "text/plain": [
       "Country  Year\n",
       "ABW      1990      46.796477\n",
       "         1991      49.424033\n",
       "         1992      51.313185\n",
       "         1993      54.032945\n",
       "         1994      57.430524\n",
       "                    ...     \n",
       "ZWE      2017      10.217760\n",
       "         2018      30.731913\n",
       "         2019     100.000000\n",
       "         2020     704.945864\n",
       "         2021    1503.614145\n",
       "Name: Value, Length: 8512, dtype: float64"
      ]
     },
     "execution_count": 11,
     "metadata": {},
     "output_type": "execute_result"
    }
   ],
   "source": [
    "DEFLATOR_DF.set_index([\"Country\", \"Year\"])[\"Value\"]"
   ]
  }
 ],
 "metadata": {
  "kernelspec": {
   "display_name": "accuracyenv",
   "language": "python",
   "name": "python3"
  },
  "language_info": {
   "codemirror_mode": {
    "name": "ipython",
    "version": 3
   },
   "file_extension": ".py",
   "mimetype": "text/x-python",
   "name": "python",
   "nbconvert_exporter": "python",
   "pygments_lexer": "ipython3",
   "version": "3.10.8"
  },
  "orig_nbformat": 4,
  "vscode": {
   "interpreter": {
    "hash": "4744633eb8f426103ab60e70c39a61516bb327a499576d15c60c80c82a47725b"
   }
  }
 },
 "nbformat": 4,
 "nbformat_minor": 2
}
