{
 "cells": [
  {
   "attachments": {},
   "cell_type": "markdown",
   "metadata": {},
   "source": [
    "# Zenodo file filling.\n",
    "\n",
    "In many cases, the Zenodo database has empty values and uneven unit use. This script fixes it and creates a\n",
    "second, fixed, version of a file."
   ]
  },
  {
   "cell_type": "code",
   "execution_count": 1,
   "metadata": {},
   "outputs": [],
   "source": [
    "import os\n",
    "import numpy as np\n",
    "import pandas as pd\n",
    "import importlib\n",
    "\n",
    "import unit_conversions"
   ]
  },
  {
   "cell_type": "code",
   "execution_count": 2,
   "metadata": {},
   "outputs": [
    {
     "name": "stdout",
     "output_type": "stream",
     "text": [
      "Currency not found: tonne\n"
     ]
    }
   ],
   "source": [
    "#Read technology file\n",
    "path = \"data/zenodo_ivan/conversion/chp/CHE_conv_chp_fueloil.xlsx\"\n",
    "input_df = pd.read_excel(path, skiprows=4)\n",
    "\n",
    "###Convert units in technology dataframe and reindex to match the current df/Excel format\n",
    "converted_df = input_df.apply(unit_conversions.convert_units,new_power='MW', new_energy='TJ', axis=1)\n",
    "converted_df = converted_df.apply(unit_conversions.convert_currency,new_cy='EUR',new_yr=2019,\n",
    "                                  deflator_country='local',axis=1)"
   ]
  },
  {
   "cell_type": "code",
   "execution_count": 3,
   "metadata": {},
   "outputs": [],
   "source": [
    "converted_df.to_csv(\"/Users/ruiziv/Downloads/test.csv\")"
   ]
  },
  {
   "cell_type": "code",
   "execution_count": 4,
   "metadata": {},
   "outputs": [],
   "source": [
    "linear_df = unit_conversions.linearise_dataframe(converted_df)\n",
    "linear_df.to_csv(\"/Users/ruiziv/Downloads/linear.csv\")"
   ]
  },
  {
   "cell_type": "code",
   "execution_count": 34,
   "metadata": {},
   "outputs": [
    {
     "name": "stderr",
     "output_type": "stream",
     "text": [
      "/var/folders/kr/x8lkz_955c5g1j29tch54jvmb3n2fb/T/ipykernel_5961/1909755543.py:2: FutureWarning: The default dtype for empty Series will be 'object' instead of 'float64' in a future version. Specify a dtype explicitly to silence this warning.\n",
      "  series = pd.Series(index=[1,2,75,3,4,5], name=\"alien\")\n"
     ]
    }
   ],
   "source": [
    "test = pd.DataFrame(index=[1,2,3,4,5], columns=[\"vaca\", \"perro\"])\n",
    "series = pd.Series(index=[1,2,75,3,4,5], name=\"alien\")\n",
    "test = pd.concat([test, series], axis=1)\n",
    "series =pd.Series(0, index=[0,1,2,3,4], name=\"mama\")\n",
    "test = pd.concat([test, series], axis=1)"
   ]
  },
  {
   "cell_type": "code",
   "execution_count": 38,
   "metadata": {},
   "outputs": [],
   "source": [
    "test.to_excel(\"/Users/ruiziv/Downloads/test.xlsx\", sheet_name=\"gatp\")"
   ]
  },
  {
   "cell_type": "code",
   "execution_count": 39,
   "metadata": {},
   "outputs": [],
   "source": [
    "unit_conversions.create_cnf_file(\"data/zenodo_ivan\", \"/Users/ruiziv/Downloads/test.xlsx\")"
   ]
  }
 ],
 "metadata": {
  "kernelspec": {
   "display_name": "accuracyenv",
   "language": "python",
   "name": "python3"
  },
  "language_info": {
   "codemirror_mode": {
    "name": "ipython",
    "version": 3
   },
   "file_extension": ".py",
   "mimetype": "text/x-python",
   "name": "python",
   "nbconvert_exporter": "python",
   "pygments_lexer": "ipython3",
   "version": "3.10.8"
  },
  "orig_nbformat": 4,
  "vscode": {
   "interpreter": {
    "hash": "4744633eb8f426103ab60e70c39a61516bb327a499576d15c60c80c82a47725b"
   }
  }
 },
 "nbformat": 4,
 "nbformat_minor": 2
}
