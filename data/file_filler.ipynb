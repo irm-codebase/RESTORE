{
 "cells": [
  {
   "attachments": {},
   "cell_type": "markdown",
   "metadata": {},
   "source": [
    "# Zenodo file filling.\n",
    "\n",
    "In many cases, the Zenodo database has empty values and uneven unit use. This script fixes it and creates a\n",
    "second, fixed, version of a file."
   ]
  },
  {
   "cell_type": "code",
   "execution_count": 13,
   "metadata": {},
   "outputs": [
    {
     "data": {
      "text/plain": [
       "<module 'unit_conversions' from '/Users/ruiziv/switchdrive/ACCURACY/RESTORE/data/unit_conversions.py'>"
      ]
     },
     "execution_count": 13,
     "metadata": {},
     "output_type": "execute_result"
    }
   ],
   "source": [
    "import os\n",
    "import numpy as np\n",
    "import pandas as pd\n",
    "import importlib\n",
    "\n",
    "import unit_conversions\n",
    "importlib.reload(unit_conversions) #Reset logging"
   ]
  },
  {
   "cell_type": "code",
   "execution_count": 15,
   "metadata": {},
   "outputs": [],
   "source": [
    "#Read technology file\n",
    "path = \"data/zenodo_ivan/resource/CHE_elecsupply.xlsx\"\n",
    "input_df = pd.read_excel(path, skiprows=4)\n",
    "\n",
    "###Convert units in technology dataframe and reindex to match the current df/Excel format\n",
    "converted_df = input_df.apply(unit_conversions.convert_unit,new_cy='EUR',new_power='MW',\n",
    "                            new_energy='TJ',new_yr=2019,deflator_country='local',axis=1)"
   ]
  },
  {
   "cell_type": "code",
   "execution_count": 16,
   "metadata": {},
   "outputs": [],
   "source": [
    "fixed_df = unit_conversions.fix_dataframe(converted_df)"
   ]
  },
  {
   "cell_type": "code",
   "execution_count": 18,
   "metadata": {},
   "outputs": [],
   "source": [
    "fixed_df.to_csv(\"/Users/ruiziv/Downloads/test.csv\")"
   ]
  }
 ],
 "metadata": {
  "kernelspec": {
   "display_name": "accuracyenv",
   "language": "python",
   "name": "python3"
  },
  "language_info": {
   "codemirror_mode": {
    "name": "ipython",
    "version": 3
   },
   "file_extension": ".py",
   "mimetype": "text/x-python",
   "name": "python",
   "nbconvert_exporter": "python",
   "pygments_lexer": "ipython3",
   "version": "3.10.8 (main, Nov  4 2022, 08:45:18) [Clang 12.0.0 ]"
  },
  "orig_nbformat": 4,
  "vscode": {
   "interpreter": {
    "hash": "4744633eb8f426103ab60e70c39a61516bb327a499576d15c60c80c82a47725b"
   }
  }
 },
 "nbformat": 4,
 "nbformat_minor": 2
}
