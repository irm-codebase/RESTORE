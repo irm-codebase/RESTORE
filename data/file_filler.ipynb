{
 "cells": [
  {
   "attachments": {},
   "cell_type": "markdown",
   "metadata": {},
   "source": [
    "# Zenodo file filling.\n",
    "\n",
    "In many cases, the Zenodo database has empty values and uneven unit use. This script fixes it and creates a\n",
    "second, fixed, version of a file."
   ]
  },
  {
   "cell_type": "code",
   "execution_count": 1,
   "metadata": {},
   "outputs": [],
   "source": [
    "import os\n",
    "import numpy as np\n",
    "import pandas as pd\n",
    "import importlib\n",
    "\n",
    "import zenodo_to_cnf"
   ]
  },
  {
   "cell_type": "code",
   "execution_count": 2,
   "metadata": {},
   "outputs": [
    {
     "name": "stdout",
     "output_type": "stream",
     "text": [
      "Currency not found: tonne\n"
     ]
    }
   ],
   "source": [
    "#Read technology file\n",
    "path = \"data/zenodo_ivan/conversion/chp/CHE_conv_chp_fueloil.xlsx\"\n",
    "input_df = pd.read_excel(path, skiprows=4)\n",
    "\n",
    "###Convert units in technology dataframe and reindex to match the current df/Excel format\n",
    "converted_df = input_df.apply(zenodo_to_cnf.convert_units,new_power='MW', new_energy='TJ', axis=1)\n",
    "converted_df = converted_df.apply(zenodo_to_cnf.convert_currency,new_cy='EUR',new_yr=2019,\n",
    "                                  deflator_country='local',axis=1)"
   ]
  },
  {
   "cell_type": "code",
   "execution_count": 3,
   "metadata": {},
   "outputs": [],
   "source": [
    "converted_df.to_csv(\"/Users/ruiziv/Downloads/test.csv\")"
   ]
  },
  {
   "cell_type": "code",
   "execution_count": 4,
   "metadata": {},
   "outputs": [],
   "source": [
    "linear_df = zenodo_to_cnf.linearise_dataframe(converted_df)\n",
    "linear_df.to_csv(\"/Users/ruiziv/Downloads/linear.csv\")"
   ]
  },
  {
   "cell_type": "code",
   "execution_count": 34,
   "metadata": {},
   "outputs": [
    {
     "name": "stderr",
     "output_type": "stream",
     "text": [
      "/var/folders/kr/x8lkz_955c5g1j29tch54jvmb3n2fb/T/ipykernel_5961/1909755543.py:2: FutureWarning: The default dtype for empty Series will be 'object' instead of 'float64' in a future version. Specify a dtype explicitly to silence this warning.\n",
      "  series = pd.Series(index=[1,2,75,3,4,5], name=\"alien\")\n"
     ]
    }
   ],
   "source": [
    "test = pd.DataFrame(index=[1,2,3,4,5], columns=[\"vaca\", \"perro\"])\n",
    "series = pd.Series(index=[1,2,75,3,4,5], name=\"alien\")\n",
    "test = pd.concat([test, series], axis=1)\n",
    "series =pd.Series(0, index=[0,1,2,3,4], name=\"mama\")\n",
    "test = pd.concat([test, series], axis=1)"
   ]
  },
  {
   "cell_type": "code",
   "execution_count": 38,
   "metadata": {},
   "outputs": [],
   "source": [
    "test.to_excel(\"/Users/ruiziv/Downloads/test.xlsx\", sheet_name=\"gatp\")"
   ]
  },
  {
   "cell_type": "code",
   "execution_count": 2,
   "metadata": {},
   "outputs": [
    {
     "ename": "KeyError",
     "evalue": "\"None of ['Parameter', 'Year'] are in the columns\"",
     "output_type": "error",
     "traceback": [
      "\u001b[0;31m---------------------------------------------------------------------------\u001b[0m",
      "\u001b[0;31mKeyError\u001b[0m                                  Traceback (most recent call last)",
      "Cell \u001b[0;32mIn[2], line 1\u001b[0m\n\u001b[0;32m----> 1\u001b[0m unit_conversions\u001b[39m.\u001b[39;49mcreate_cnf_file(\u001b[39m\"\u001b[39;49m\u001b[39mdata/zenodo_ivan\u001b[39;49m\u001b[39m\"\u001b[39;49m, \u001b[39m\"\u001b[39;49m\u001b[39m/Users/ruiziv/Downloads/test.xlsx\u001b[39;49m\u001b[39m\"\u001b[39;49m)\n",
      "File \u001b[0;32m~/switchdrive/ACCURACY/RESTORE/data/unit_conversions.py:291\u001b[0m, in \u001b[0;36mcreate_cnf_file\u001b[0;34m(data_path, cnf_path)\u001b[0m\n\u001b[1;32m    289\u001b[0m item_path \u001b[39m=\u001b[39m os\u001b[39m.\u001b[39mpath\u001b[39m.\u001b[39mjoin(data_path, item)\n\u001b[1;32m    290\u001b[0m \u001b[39mif\u001b[39;00m os\u001b[39m.\u001b[39mpath\u001b[39m.\u001b[39misdir(item_path) \u001b[39mand\u001b[39;00m \u001b[39m\"\u001b[39m\u001b[39m_\u001b[39m\u001b[39m\"\u001b[39m \u001b[39mnot\u001b[39;00m \u001b[39min\u001b[39;00m item:  \u001b[39m# ensure generic folders are omitted\u001b[39;00m\n\u001b[0;32m--> 291\u001b[0m     create_cnf_file(item_path, cnf_path)\n\u001b[1;32m    292\u001b[0m \u001b[39melif\u001b[39;00m os\u001b[39m.\u001b[39mpath\u001b[39m.\u001b[39misfile(item_path) \u001b[39mand\u001b[39;00m \u001b[39m\"\u001b[39m\u001b[39m_\u001b[39m\u001b[39m\"\u001b[39m \u001b[39min\u001b[39;00m item \u001b[39mand\u001b[39;00m \u001b[39m\"\u001b[39m\u001b[39m.xlsx\u001b[39m\u001b[39m\"\u001b[39m \u001b[39min\u001b[39;00m item:\n\u001b[1;32m    293\u001b[0m     \u001b[39m# Get position in configuration file\u001b[39;00m\n\u001b[1;32m    294\u001b[0m     file_name \u001b[39m=\u001b[39m item\u001b[39m.\u001b[39mremovesuffix(\u001b[39m\"\u001b[39m\u001b[39m.xlsx\u001b[39m\u001b[39m\"\u001b[39m)\n",
      "File \u001b[0;32m~/switchdrive/ACCURACY/RESTORE/data/unit_conversions.py:304\u001b[0m, in \u001b[0;36mcreate_cnf_file\u001b[0;34m(data_path, cnf_path)\u001b[0m\n\u001b[1;32m    302\u001b[0m entity \u001b[39m=\u001b[39m data_df[\u001b[39m\"\u001b[39m\u001b[39mEntity\u001b[39m\u001b[39m\"\u001b[39m]\u001b[39m.\u001b[39munique()[\u001b[39m0\u001b[39m]\n\u001b[1;32m    303\u001b[0m data_df \u001b[39m=\u001b[39m linearise_dataframe(data_df)\n\u001b[0;32m--> 304\u001b[0m data_df\u001b[39m.\u001b[39;49mset_index([\u001b[39m\"\u001b[39;49m\u001b[39mParameter\u001b[39;49m\u001b[39m\"\u001b[39;49m, \u001b[39m\"\u001b[39;49m\u001b[39mType\u001b[39;49m\u001b[39m\"\u001b[39;49m, \u001b[39m\"\u001b[39;49m\u001b[39mYear\u001b[39;49m\u001b[39m\"\u001b[39;49m, \u001b[39m\"\u001b[39;49m\u001b[39mFlow\u001b[39;49m\u001b[39m\"\u001b[39;49m], inplace\u001b[39m=\u001b[39;49m\u001b[39mTrue\u001b[39;49;00m)\n\u001b[1;32m    305\u001b[0m values \u001b[39m=\u001b[39m data_df[\u001b[39m\"\u001b[39m\u001b[39mValue\u001b[39m\u001b[39m\"\u001b[39m]\n\u001b[1;32m    306\u001b[0m values\u001b[39m.\u001b[39mname \u001b[39m=\u001b[39m entity\n",
      "File \u001b[0;32m~/miniconda3/envs/accuracyenv/lib/python3.10/site-packages/pandas/util/_decorators.py:311\u001b[0m, in \u001b[0;36mdeprecate_nonkeyword_arguments.<locals>.decorate.<locals>.wrapper\u001b[0;34m(*args, **kwargs)\u001b[0m\n\u001b[1;32m    305\u001b[0m \u001b[39mif\u001b[39;00m \u001b[39mlen\u001b[39m(args) \u001b[39m>\u001b[39m num_allow_args:\n\u001b[1;32m    306\u001b[0m     warnings\u001b[39m.\u001b[39mwarn(\n\u001b[1;32m    307\u001b[0m         msg\u001b[39m.\u001b[39mformat(arguments\u001b[39m=\u001b[39marguments),\n\u001b[1;32m    308\u001b[0m         \u001b[39mFutureWarning\u001b[39;00m,\n\u001b[1;32m    309\u001b[0m         stacklevel\u001b[39m=\u001b[39mstacklevel,\n\u001b[1;32m    310\u001b[0m     )\n\u001b[0;32m--> 311\u001b[0m \u001b[39mreturn\u001b[39;00m func(\u001b[39m*\u001b[39;49margs, \u001b[39m*\u001b[39;49m\u001b[39m*\u001b[39;49mkwargs)\n",
      "File \u001b[0;32m~/miniconda3/envs/accuracyenv/lib/python3.10/site-packages/pandas/core/frame.py:5503\u001b[0m, in \u001b[0;36mDataFrame.set_index\u001b[0;34m(self, keys, drop, append, inplace, verify_integrity)\u001b[0m\n\u001b[1;32m   5500\u001b[0m                 missing\u001b[39m.\u001b[39mappend(col)\n\u001b[1;32m   5502\u001b[0m \u001b[39mif\u001b[39;00m missing:\n\u001b[0;32m-> 5503\u001b[0m     \u001b[39mraise\u001b[39;00m \u001b[39mKeyError\u001b[39;00m(\u001b[39mf\u001b[39m\u001b[39m\"\u001b[39m\u001b[39mNone of \u001b[39m\u001b[39m{\u001b[39;00mmissing\u001b[39m}\u001b[39;00m\u001b[39m are in the columns\u001b[39m\u001b[39m\"\u001b[39m)\n\u001b[1;32m   5505\u001b[0m \u001b[39mif\u001b[39;00m inplace:\n\u001b[1;32m   5506\u001b[0m     frame \u001b[39m=\u001b[39m \u001b[39mself\u001b[39m\n",
      "\u001b[0;31mKeyError\u001b[0m: \"None of ['Parameter', 'Year'] are in the columns\""
     ]
    }
   ],
   "source": [
    "zenodo_to_cnf.create_cnf_file(\"data/zenodo_ivan\", \"/Users/ruiziv/Downloads/test.xlsx\")"
   ]
  }
 ],
 "metadata": {
  "kernelspec": {
   "display_name": "accuracyenv",
   "language": "python",
   "name": "python3"
  },
  "language_info": {
   "codemirror_mode": {
    "name": "ipython",
    "version": 3
   },
   "file_extension": ".py",
   "mimetype": "text/x-python",
   "name": "python",
   "nbconvert_exporter": "python",
   "pygments_lexer": "ipython3",
   "version": "3.10.8"
  },
  "orig_nbformat": 4,
  "vscode": {
   "interpreter": {
    "hash": "4744633eb8f426103ab60e70c39a61516bb327a499576d15c60c80c82a47725b"
   }
  }
 },
 "nbformat": 4,
 "nbformat_minor": 2
}
