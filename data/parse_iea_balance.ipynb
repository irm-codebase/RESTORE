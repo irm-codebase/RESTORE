{
 "cells": [
  {
   "cell_type": "code",
   "execution_count": 1,
   "metadata": {},
   "outputs": [],
   "source": [
    "import os\n",
    "import pandas as pd\n",
    "import numpy as np"
   ]
  },
  {
   "cell_type": "code",
   "execution_count": 2,
   "metadata": {},
   "outputs": [],
   "source": [
    "PATH = \"data/iea_balances/extended\"\n"
   ]
  },
  {
   "cell_type": "code",
   "execution_count": 57,
   "metadata": {},
   "outputs": [],
   "source": [
    "years = list(range(1990, 2019))\n",
    "prefix = \"CHE_Balance_extended_\"\n",
    "suffix = \".xls\"\n",
    "\n",
    "iea_dict = dict.fromkeys(years)\n",
    "for item in os.listdir(PATH):\n",
    "    year = item.removeprefix(prefix).removesuffix(suffix)\n",
    "    if year.isdigit():\n",
    "        year = int(year)\n",
    "        if year in years:\n",
    "            item_path = os.path.join(PATH,item)\n",
    "            iea_dict[year] = pd.read_excel(item_path, index_col=0, header=2, skiprows=[3])"
   ]
  },
  {
   "cell_type": "code",
   "execution_count": 116,
   "metadata": {},
   "outputs": [
    {
     "name": "stdout",
     "output_type": "stream",
     "text": [
      "3.3981793739599997\n",
      "3.75725892409\n",
      "3.6517397751\n",
      "3.85183643705\n",
      "3.68103135975\n",
      "3.23149650734\n",
      "3.55693170723\n",
      "3.63369260341\n",
      "3.65101199936\n",
      "3.75151449573\n",
      "3.72839789379\n",
      "3.7491006135999996\n",
      "3.78023108199\n",
      "4.20878265982\n",
      "4.46658471575\n",
      "4.46899859788\n",
      "4.38084606693\n",
      "4.3560433586\n",
      "4.62119539395\n",
      "4.51082903631\n",
      "5.173093848630001\n",
      "4.74738670728\n",
      "4.711859028979999\n",
      "4.61816762465\n",
      "4.29447408655\n",
      "4.6952785198499996\n",
      "5.11603845283\n",
      "5.2725491257099995\n",
      "5.306343475529999\n"
     ]
    }
   ],
   "source": [
    "categories = [\"Total\"]\n",
    "flows = [\"   Heat output-main activity producer CHP plants\", \"   Heat output-autoproducer CHP plants\"]\n",
    "for year, data in iea_dict.items():\n",
    "    print(abs(data.loc[flows, categories].to_numpy().sum())*0.000277777 )"
   ]
  },
  {
   "cell_type": "code",
   "execution_count": 73,
   "metadata": {},
   "outputs": [
    {
     "data": {
      "text/plain": [
       "Index(['Production', 'Imports', 'Exports', 'International marine bunkers',\n",
       "       'International aviation bunkers', 'Stock changes',\n",
       "       'Total energy supply', '   Transfers', '   Statistical differences',\n",
       "       '   Transformation processes',\n",
       "       ...\n",
       "       'Electricity output (GWh)',\n",
       "       '   Electricity output (GWh)-main activity producer electricity plants',\n",
       "       '   Electricity output (GWh)-autoproducer electricity plants',\n",
       "       '   Electricity output (GWh)-main activity producer CHP plants',\n",
       "       '   Electricity output (GWh)-autoproducer CHP plants', 'Heat output',\n",
       "       '   Heat output-main activity producer CHP plants',\n",
       "       '   Heat output-autoproducer CHP plants',\n",
       "       '   Heat output-main activity producer heat plants',\n",
       "       '   Heat output-autoproducer heat plants'],\n",
       "      dtype='object', name='PRODUCT', length=108)"
      ]
     },
     "execution_count": 73,
     "metadata": {},
     "output_type": "execute_result"
    }
   ],
   "source": [
    "iea_dict[1990].index\n"
   ]
  }
 ],
 "metadata": {
  "kernelspec": {
   "display_name": "accuracyenv",
   "language": "python",
   "name": "python3"
  },
  "language_info": {
   "codemirror_mode": {
    "name": "ipython",
    "version": 3
   },
   "file_extension": ".py",
   "mimetype": "text/x-python",
   "name": "python",
   "nbconvert_exporter": "python",
   "pygments_lexer": "ipython3",
   "version": "3.10.8 (main, Nov  4 2022, 08:45:18) [Clang 12.0.0 ]"
  },
  "orig_nbformat": 4,
  "vscode": {
   "interpreter": {
    "hash": "4744633eb8f426103ab60e70c39a61516bb327a499576d15c60c80c82a47725b"
   }
  }
 },
 "nbformat": 4,
 "nbformat_minor": 2
}
