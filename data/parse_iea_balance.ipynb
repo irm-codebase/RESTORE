{
 "cells": [
  {
   "cell_type": "code",
   "execution_count": 2,
   "metadata": {},
   "outputs": [],
   "source": [
    "import os\n",
    "import pandas as pd\n",
    "import numpy as np"
   ]
  },
  {
   "cell_type": "code",
   "execution_count": 3,
   "metadata": {},
   "outputs": [],
   "source": [
    "PATH = \"data/iea_balances/extended\"\n"
   ]
  },
  {
   "cell_type": "code",
   "execution_count": 4,
   "metadata": {},
   "outputs": [],
   "source": [
    "years = list(range(1990, 2019))\n",
    "prefix = \"CHE_Balance_extended_\"\n",
    "suffix = \".xls\"\n",
    "\n",
    "iea_dict = dict.fromkeys(years)\n",
    "for item in os.listdir(PATH):\n",
    "    year = item.removeprefix(prefix).removesuffix(suffix)\n",
    "    if year.isdigit():\n",
    "        year = int(year)\n",
    "        if year in years:\n",
    "            item_path = os.path.join(PATH,item)\n",
    "            iea_dict[year] = pd.read_excel(item_path, index_col=0, header=2, skiprows=[3])"
   ]
  },
  {
   "cell_type": "code",
   "execution_count": 9,
   "metadata": {},
   "outputs": [
    {
     "name": "stdout",
     "output_type": "stream",
     "text": [
      "212.17532257410002\n",
      "223.06556430356\n",
      "223.3425413058\n",
      "215.92248152647\n",
      "210.85808459570998\n",
      "216.6043657283\n",
      "221.24220552009\n",
      "216.22300290722998\n",
      "221.93502024687\n",
      "226.77803724193998\n",
      "224.10389750733\n",
      "230.6548819423\n",
      "224.54474071740998\n",
      "231.29436070731\n",
      "232.98801429839997\n",
      "236.00070586284\n",
      "234.55847934553\n",
      "227.01945878817997\n",
      "234.64970131233\n",
      "229.61148764159\n",
      "239.08178334691\n",
      "220.78059570149\n",
      "227.96915612902\n",
      "233.11385839048\n",
      "213.63852958822\n",
      "216.34370256927\n",
      "219.13033365557\n",
      "216.62270178807\n",
      "210.86767901329\n"
     ]
    }
   ],
   "source": [
    "categories = [\"Total\"]\n",
    "flows = [\"   Total final consumption\"]\n",
    "for year, data in iea_dict.items():\n",
    "    print(abs(data.loc[flows, categories].to_numpy().sum())*0.000277777 )"
   ]
  },
  {
   "cell_type": "code",
   "execution_count": 73,
   "metadata": {},
   "outputs": [
    {
     "data": {
      "text/plain": [
       "Index(['Production', 'Imports', 'Exports', 'International marine bunkers',\n",
       "       'International aviation bunkers', 'Stock changes',\n",
       "       'Total energy supply', '   Transfers', '   Statistical differences',\n",
       "       '   Transformation processes',\n",
       "       ...\n",
       "       'Electricity output (GWh)',\n",
       "       '   Electricity output (GWh)-main activity producer electricity plants',\n",
       "       '   Electricity output (GWh)-autoproducer electricity plants',\n",
       "       '   Electricity output (GWh)-main activity producer CHP plants',\n",
       "       '   Electricity output (GWh)-autoproducer CHP plants', 'Heat output',\n",
       "       '   Heat output-main activity producer CHP plants',\n",
       "       '   Heat output-autoproducer CHP plants',\n",
       "       '   Heat output-main activity producer heat plants',\n",
       "       '   Heat output-autoproducer heat plants'],\n",
       "      dtype='object', name='PRODUCT', length=108)"
      ]
     },
     "execution_count": 73,
     "metadata": {},
     "output_type": "execute_result"
    }
   ],
   "source": [
    "iea_dict[1990].index\n"
   ]
  }
 ],
 "metadata": {
  "kernelspec": {
   "display_name": "accuracyenv",
   "language": "python",
   "name": "python3"
  },
  "language_info": {
   "codemirror_mode": {
    "name": "ipython",
    "version": 3
   },
   "file_extension": ".py",
   "mimetype": "text/x-python",
   "name": "python",
   "nbconvert_exporter": "python",
   "pygments_lexer": "ipython3",
   "version": "3.10.8 (main, Nov  4 2022, 08:45:18) [Clang 12.0.0 ]"
  },
  "orig_nbformat": 4,
  "vscode": {
   "interpreter": {
    "hash": "4744633eb8f426103ab60e70c39a61516bb327a499576d15c60c80c82a47725b"
   }
  }
 },
 "nbformat": 4,
 "nbformat_minor": 2
}
