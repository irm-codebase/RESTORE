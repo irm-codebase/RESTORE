{
 "cells": [
  {
   "cell_type": "code",
   "execution_count": 1,
   "metadata": {},
   "outputs": [],
   "source": [
    "import os\n",
    "import pandas as pd\n",
    "import numpy as np"
   ]
  },
  {
   "cell_type": "code",
   "execution_count": 2,
   "metadata": {},
   "outputs": [],
   "source": [
    "PATH = \"data/iea_balances/extended\"\n"
   ]
  },
  {
   "cell_type": "code",
   "execution_count": 3,
   "metadata": {},
   "outputs": [],
   "source": [
    "years = list(range(1990, 2019))\n",
    "prefix = \"CHE_Balance_extended_\"\n",
    "suffix = \".xls\"\n",
    "\n",
    "iea_dict = dict.fromkeys(years)\n",
    "for item in os.listdir(PATH):\n",
    "    year = item.removeprefix(prefix).removesuffix(suffix)\n",
    "    if year.isdigit():\n",
    "        year = int(year)\n",
    "        if year in years:\n",
    "            item_path = os.path.join(PATH,item)\n",
    "            iea_dict[year] = pd.read_excel(item_path, index_col=0, header=2, skiprows=[3])"
   ]
  },
  {
   "cell_type": "code",
   "execution_count": 16,
   "metadata": {},
   "outputs": [
    {
     "name": "stdout",
     "output_type": "stream",
     "text": [
      "303258.8\n",
      "313521.2\n",
      "311136.4\n",
      "276594.0\n",
      "296448.4\n",
      "264115.2\n",
      "283517.6\n",
      "300220.8\n",
      "306507.0\n",
      "264694.4\n",
      "253362.40000000002\n",
      "308655.6\n",
      "293137.80000000005\n",
      "279234.6\n",
      "280185.4\n",
      "300304.2\n",
      "308785.8\n",
      "248047.59999999998\n",
      "291182.6\n",
      "311873.6\n",
      "260825.4\n",
      "247566.0\n",
      "262374.4\n",
      "292301.2\n",
      "249720.40000000002\n",
      "250420.8\n",
      "246449.59999999998\n",
      "244648.0\n",
      "211799.96\n"
     ]
    }
   ],
   "source": [
    "categories = [\"Fuel oil\", \"Gas/diesel oil excl. biofuels\"]\n",
    "flows = [\"Imports\", \"      Oil refineries\", \"   Energy industry own use\"]\n",
    "for year, data in iea_dict.items():\n",
    "    print(abs(data.loc[flows, categories].to_numpy().sum()))"
   ]
  },
  {
   "cell_type": "code",
   "execution_count": 9,
   "metadata": {},
   "outputs": [
    {
     "data": {
      "text/plain": [
       "(array([24, 40]),)"
      ]
     },
     "execution_count": 9,
     "metadata": {},
     "output_type": "execute_result"
    }
   ],
   "source": [
    "idx = data.index.to_numpy()\n",
    "np.where(idx == \"      Oil refineries\")"
   ]
  },
  {
   "cell_type": "code",
   "execution_count": 10,
   "metadata": {},
   "outputs": [
    {
     "data": {
      "text/plain": [
       "(array([35]),)"
      ]
     },
     "execution_count": 10,
     "metadata": {},
     "output_type": "execute_result"
    }
   ],
   "source": [
    "idx = data.columns.to_numpy()\n",
    "np.where(idx == \"Fuel oil\")"
   ]
  }
 ],
 "metadata": {
  "kernelspec": {
   "display_name": "accuracyenv",
   "language": "python",
   "name": "python3"
  },
  "language_info": {
   "codemirror_mode": {
    "name": "ipython",
    "version": 3
   },
   "file_extension": ".py",
   "mimetype": "text/x-python",
   "name": "python",
   "nbconvert_exporter": "python",
   "pygments_lexer": "ipython3",
   "version": "3.10.8"
  },
  "orig_nbformat": 4,
  "vscode": {
   "interpreter": {
    "hash": "4744633eb8f426103ab60e70c39a61516bb327a499576d15c60c80c82a47725b"
   }
  }
 },
 "nbformat": 4,
 "nbformat_minor": 2
}
