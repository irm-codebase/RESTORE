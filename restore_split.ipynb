{
 "cells": [
  {
   "cell_type": "code",
   "execution_count": null,
   "metadata": {},
   "outputs": [],
   "source": [
    "from model_utils import configuration as cnf\n",
    "from plotting import model_plots\n",
    "from plotting import data_plots\n",
    "from model_utils import initialisation as init\n",
    "import sectors\n",
    "import pyomo.environ as pyo"
   ]
  },
  {
   "cell_type": "code",
   "execution_count": null,
   "metadata": {},
   "outputs": [],
   "source": [
    "# Show network complexity\n",
    "data_plots.plot_io_network(cnf.DATA)"
   ]
  },
  {
   "cell_type": "code",
   "execution_count": null,
   "metadata": {},
   "outputs": [],
   "source": [
    "# Model setup\n",
    "model = init.init_model()\n",
    "\n",
    "sectors.trade.configure_sector(model)\n",
    "sectors.extraction.configure_sector(model)\n",
    "sectors.storage.configure_sector(model)\n",
    "\n",
    "sectors.electricity.configure_sector(model)\n",
    "sectors.transmission.configure_sector(model)\n",
    "# # sectors.passenger.configure_sector(model)\n",
    "\n",
    "sectors.demands.configure_sector(model)"
   ]
  },
  {
   "cell_type": "code",
   "execution_count": null,
   "metadata": {},
   "outputs": [],
   "source": [
    "model.sto_c_charge_limit.pprint()"
   ]
  },
  {
   "cell_type": "code",
   "execution_count": null,
   "metadata": {},
   "outputs": [],
   "source": [
    "tot_cost_expr = model.dem_e_CostTotal + model.elec_e_CostTotal + model.ext_e_CostTotal + model.sto_e_CostTotal + model.trd_e_CostTotal + model.etrans_e_CostTotal"
   ]
  },
  {
   "cell_type": "code",
   "execution_count": null,
   "metadata": {},
   "outputs": [],
   "source": [
    "# tot_cost_expr = model.e_costinv + model.e_costfixedom + model.e_costvar - model.e_revenuevar\n",
    "model.cost = pyo.Objective(expr=tot_cost_expr, sense=pyo.minimize)\n",
    "model.dual = pyo.Suffix(direction=pyo.Suffix.IMPORT)\n",
    "\n",
    "opt = pyo.SolverFactory(\"gurobi\", solver_io=\"python\")\n",
    "opt.options[\"MIPGap\"] = 1e-2\n",
    "opt.options[\"Timelimit\"] = 1800\n",
    "try:\n",
    "    opt_result = opt.solve(model, tee=False)\n",
    "    print(opt_result)\n",
    "except ValueError:\n",
    "    model.write(\"debug.lp\", format=\"lp\", io_options={\"symbolic_solver_labels\": True})"
   ]
  },
  {
   "attachments": {},
   "cell_type": "markdown",
   "metadata": {},
   "source": [
    "# Plotting"
   ]
  },
  {
   "cell_type": "code",
   "execution_count": null,
   "metadata": {},
   "outputs": [],
   "source": [
    "model.test.pprint()"
   ]
  },
  {
   "cell_type": "code",
   "execution_count": null,
   "metadata": {},
   "outputs": [],
   "source": [
    "model_plots.plot_flow_fin(model, cnf.DATA, [\"elecsupply\"], unit=\"TWh\", hist=\"elecsupply\")"
   ]
  },
  {
   "cell_type": "code",
   "execution_count": null,
   "metadata": {},
   "outputs": [],
   "source": [
    "model_plots.plot_flow_fout(model, cnf.DATA, [\"elecsupply\"], unit=\"TWh\", hist=\"elecsupply\")"
   ]
  },
  {
   "cell_type": "code",
   "execution_count": null,
   "metadata": {},
   "outputs": [],
   "source": [
    "model_plots.plot_group_ctot(model, [\"_elec_\", \"_chp_\"], unit=\"GW\")"
   ]
  },
  {
   "cell_type": "code",
   "execution_count": null,
   "metadata": {},
   "outputs": [],
   "source": [
    "model_plots.plot_act(model, \"sto_elec_pumpedhydro\", unit=\"TWh\")"
   ]
  },
  {
   "attachments": {},
   "cell_type": "markdown",
   "metadata": {},
   "source": [
    "# Debug\n",
    "Check your model run :)"
   ]
  },
  {
   "cell_type": "code",
   "execution_count": null,
   "metadata": {},
   "outputs": [],
   "source": [
    "for y_last in model.Years:\n",
    "    for h in model.Hours:\n",
    "        tech = \"sto_elec_pumpedhydro\"\n",
    "        flow = \"elecsupply\"\n",
    "        print(f\"\", \"fin\", model.fin[flow, tech, y_last, h].value, \"soc\", model.a[tech, y_last, h].value, \"fout\", model.fout[flow, tech, y_last, h].value)"
   ]
  },
  {
   "cell_type": "code",
   "execution_count": null,
   "metadata": {},
   "outputs": [],
   "source": [
    "from pyomo.util import infeasible\n",
    "infeasible.log_infeasible_constraints(model, log_expression=True, log_variables=True)\n",
    "infeasible.log_infeasible_bounds(model)\n",
    "# infeasible.log_close_to_bounds(model)"
   ]
  },
  {
   "cell_type": "code",
   "execution_count": null,
   "metadata": {},
   "outputs": [],
   "source": [
    "import gurobi\n",
    "\n",
    "model.write(\"debug.lp\", format=\"lp\", io_options={\"symbolic_solver_labels\": True})\n",
    "m = gurobi.read(\"debug.lp\")\n",
    "m.optimize()\n",
    "m.computeIIS()\n",
    "m.write(\"debug_{0}.ilp\".format(\"CHE\"))"
   ]
  }
 ],
 "metadata": {
  "kernelspec": {
   "display_name": "accuracyenv",
   "language": "python",
   "name": "python3"
  },
  "language_info": {
   "codemirror_mode": {
    "name": "ipython",
    "version": 3
   },
   "file_extension": ".py",
   "mimetype": "text/x-python",
   "name": "python",
   "nbconvert_exporter": "python",
   "pygments_lexer": "ipython3",
   "version": "3.10.8"
  },
  "orig_nbformat": 4,
  "vscode": {
   "interpreter": {
    "hash": "4744633eb8f426103ab60e70c39a61516bb327a499576d15c60c80c82a47725b"
   }
  }
 },
 "nbformat": 4,
 "nbformat_minor": 2
}
