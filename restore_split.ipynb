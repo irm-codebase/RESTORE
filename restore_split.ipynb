{
 "cells": [
  {
   "cell_type": "code",
   "execution_count": null,
   "metadata": {},
   "outputs": [],
   "source": [
    "from model_utils import configuration as cnf\n",
    "from plotting import model_plots\n",
    "from plotting import data_plots\n",
    "from model_utils import initialisation as init\n",
    "import sectors\n",
    "import pyomo.environ as pyo"
   ]
  },
  {
   "cell_type": "code",
   "execution_count": null,
   "metadata": {},
   "outputs": [],
   "source": [
    "# Show network complexity\n",
    "data_plots.plot_io_network(cnf.DATA)"
   ]
  },
  {
   "cell_type": "code",
   "execution_count": null,
   "metadata": {},
   "outputs": [],
   "source": [
    "# Model setup\n",
    "model = init.init_model()\n",
    "\n",
    "sectors.trade.configure_sector(model)\n",
    "sectors.extraction.configure_sector(model)\n",
    "sectors.storage.configure_sector(model)\n",
    "\n",
    "sectors.electricity.configure_sector(model)\n",
    "sectors.transmission.configure_sector(model)\n",
    "sectors.passenger.configure_sector(model)\n",
    "\n",
    "sectors.demands.configure_sector(model)"
   ]
  },
  {
   "cell_type": "code",
   "execution_count": null,
   "metadata": {},
   "outputs": [],
   "source": [
    "# Investment cost\n",
    "def e_costinv_p_y(model, process, year):\n",
    "    if process in model.Caps:\n",
    "        cost_inv = cnf.DATA.get(process, \"cost_investment\", year)\n",
    "        return model.DR[year]*cost_inv*model.cnew[process,year]\n",
    "    return pyo.Expression.Skip\n",
    "\n",
    "def e_costinv_y(model, year):\n",
    "    return sum(model.e_costinv_p_y[p, y] for p,y in model.e_costinv_p_y if y == year)\n",
    "\n",
    "def e_costinv(model):\n",
    "    return sum(model.e_costinv_y[y] for y in model.e_costinv_y)\n",
    "\n",
    "model.e_costinv_p_y = pyo.Expression(model.Pros, model.Years, rule=e_costinv_p_y)\n",
    "model.e_costinv_y = pyo.Expression(model.Years, rule=e_costinv_y)\n",
    "model.e_costinv = pyo.Expression(rule=e_costinv)"
   ]
  },
  {
   "cell_type": "code",
   "execution_count": null,
   "metadata": {},
   "outputs": [],
   "source": [
    "\n",
    "def e_costfixedom_p_y(model, process, year):\n",
    "    if process in model.Caps:\n",
    "        cost_fom = cnf.DATA.get(process, \"cost_fixed_om_annual\", year)\n",
    "        return model.DR[year]*cost_fom*model.ctot[process,year]\n",
    "    return pyo.Expression.Skip\n",
    "\n",
    "def e_costfixedom_y(model, year):\n",
    "    return sum(model.e_costfixedom_p_y[p, y] for p,y in model.e_costfixedom_p_y if y == year)\n",
    "\n",
    "def e_costfixedom(model):\n",
    "    return sum(model.e_costfixedom_y[y] for y in model.e_costfixedom_y)\n",
    "\n",
    "model.e_costfixedom_p_y = pyo.Expression(model.Pros, model.Years, rule=e_costfixedom_p_y)\n",
    "model.e_costfixedom_y = pyo.Expression(model.Years, rule=e_costfixedom_y)\n",
    "model.e_costfixedom = pyo.Expression(rule=e_costfixedom)"
   ]
  },
  {
   "cell_type": "code",
   "execution_count": null,
   "metadata": {},
   "outputs": [],
   "source": [
    "def e_costvar_p_y_h(model, process, year, hour):\n",
    "    # Variable cost is type-dependent to improve readability at the database-level.\n",
    "    d_f = model.DR[year]\n",
    "    cost = 0\n",
    "    if process in model.Trades:\n",
    "        if process not in model.TradesImp:\n",
    "            return pyo.Expression.Skip\n",
    "        cost_var = cnf.DATA.get(process, \"cost_import\", year)\n",
    "        cost = d_f*cost_var*model.aimp[process, year, hour]\n",
    "    else:\n",
    "        cost_var = cnf.DATA.get(process, \"cost_variable_om\", year)\n",
    "        cost = d_f*cost_var*model.a[process, year, hour]\n",
    "    return cost if not isinstance(cost, (int, float)) else pyo.Expression.Skip\n",
    "\n",
    "def e_costvar_y(model, year):\n",
    "    return model.TPERIOD * sum(model.e_costvar_p_y_h[p,y,h] for p,y,h in model.e_costvar_p_y_h if y == year)\n",
    "\n",
    "def e_costvar(model):\n",
    "    return sum(model.e_costvar_y[y] for y in model.e_costvar_y)\n",
    "\n",
    "model.e_costvar_p_y_h = pyo.Expression(model.Pros, model.Years, model.Hours, rule=e_costvar_p_y_h)\n",
    "model.e_costvar_y = pyo.Expression(model.Years, rule=e_costvar_y)\n",
    "model.e_costvar = pyo.Expression(rule=e_costvar)"
   ]
  },
  {
   "cell_type": "code",
   "execution_count": null,
   "metadata": {},
   "outputs": [],
   "source": [
    "def e_revenuevar_p_y_h(model, process, year, hour):\n",
    "    # Variable cost is type-dependent to improve readability at the database-level.\n",
    "    if process in model.TradesExp:\n",
    "        discount_f = model.DR[year]\n",
    "        rev_var = cnf.DATA.get(process, \"revenue_export\", year)\n",
    "        return discount_f*rev_var*model.aexp[process, year, hour]\n",
    "    return pyo.Expression.Skip\n",
    "\n",
    "def e_revenuevar_y(model, year):\n",
    "    return model.TPERIOD * sum(model.e_revenuevar_p_y_h[p,y,h] for p,y,h in model.e_revenuevar_p_y_h if y == year)\n",
    "\n",
    "def e_revenuevar(model):\n",
    "    return sum(model.e_revenuevar_y[y] for y in model.e_revenuevar_y)\n",
    "\n",
    "model.e_revenuevar_p_y_h = pyo.Expression(model.Pros, model.Years, model.Hours, rule=e_revenuevar_p_y_h)\n",
    "model.e_revenuevar_y = pyo.Expression(model.Years, rule=e_revenuevar_y)\n",
    "model.e_revenuevar = pyo.Expression(rule=e_revenuevar)"
   ]
  },
  {
   "cell_type": "code",
   "execution_count": null,
   "metadata": {},
   "outputs": [],
   "source": [
    "tot_cost_expr = model.e_costinv + model.e_costfixedom + model.e_costvar - model.e_revenuevar\n",
    "model.cost = pyo.Objective(expr=tot_cost_expr, sense=pyo.minimize)\n",
    "model.dual = pyo.Suffix(direction=pyo.Suffix.IMPORT)\n",
    "\n",
    "opt = pyo.SolverFactory(\"gurobi\", solver_io=\"python\")\n",
    "opt.options[\"MIPGap\"] = 1e-2\n",
    "opt.options[\"Timelimit\"] = 1800\n",
    "try:\n",
    "    opt_result = opt.solve(model, tee=False)\n",
    "    print(opt_result)\n",
    "except ValueError:\n",
    "    model.write(\"debug.lp\", format=\"lp\", io_options={\"symbolic_solver_labels\": True})"
   ]
  },
  {
   "attachments": {},
   "cell_type": "markdown",
   "metadata": {},
   "source": [
    "# Plotting"
   ]
  },
  {
   "cell_type": "code",
   "execution_count": null,
   "metadata": {},
   "outputs": [],
   "source": [
    "model_plots.plot_flow_fin(model, cnf.DATA, [\"passshort\", \"passlong\"], unit=\"TWh\", hist=\"passenger\")"
   ]
  },
  {
   "cell_type": "code",
   "execution_count": null,
   "metadata": {},
   "outputs": [],
   "source": [
    "model_plots.plot_flow_fout(model, cnf.DATA, [\"elecsupply\"], unit=\"Mpkm\", hist=\"elecsupply\")"
   ]
  },
  {
   "cell_type": "code",
   "execution_count": null,
   "metadata": {},
   "outputs": [],
   "source": [
    "data_plots.plot_flow_fout(model, cnf.DATA, [\"elecsupply\"], unit=\"Mpkm\")"
   ]
  },
  {
   "cell_type": "code",
   "execution_count": null,
   "metadata": {},
   "outputs": [],
   "source": [
    "model_plots.plot_group_cnew(model, [\"conv_pass\"], \"units\")"
   ]
  },
  {
   "cell_type": "code",
   "execution_count": null,
   "metadata": {},
   "outputs": [],
   "source": [
    "data_plots.plot_group_cnew(model, cnf.DATA, [\"conv_pass\"], \"units\")"
   ]
  },
  {
   "attachments": {},
   "cell_type": "markdown",
   "metadata": {},
   "source": [
    "# Debug\n",
    "Check your model run :)"
   ]
  },
  {
   "cell_type": "code",
   "execution_count": null,
   "metadata": {},
   "outputs": [],
   "source": [
    "model.ctot.pprint()"
   ]
  },
  {
   "cell_type": "code",
   "execution_count": null,
   "metadata": {},
   "outputs": [],
   "source": [
    "from pyomo.util import infeasible\n",
    "infeasible.log_infeasible_constraints(model, log_expression=True, log_variables=True)\n",
    "infeasible.log_infeasible_bounds(model)\n",
    "# infeasible.log_close_to_bounds(model)"
   ]
  },
  {
   "cell_type": "code",
   "execution_count": null,
   "metadata": {},
   "outputs": [],
   "source": [
    "import gurobi\n",
    "\n",
    "model.write(\"debug.lp\", format=\"lp\", io_options={\"symbolic_solver_labels\": True})\n",
    "m = gurobi.read(\"debug.lp\")\n",
    "m.optimize()\n",
    "m.computeIIS()\n",
    "m.write(\"debug_{0}.ilp\".format(\"CHE\"))"
   ]
  }
 ],
 "metadata": {
  "kernelspec": {
   "display_name": "accuracyenv",
   "language": "python",
   "name": "python3"
  },
  "language_info": {
   "codemirror_mode": {
    "name": "ipython",
    "version": 3
   },
   "file_extension": ".py",
   "mimetype": "text/x-python",
   "name": "python",
   "nbconvert_exporter": "python",
   "pygments_lexer": "ipython3",
   "version": "3.10.8"
  },
  "orig_nbformat": 4,
  "vscode": {
   "interpreter": {
    "hash": "4744633eb8f426103ab60e70c39a61516bb327a499576d15c60c80c82a47725b"
   }
  }
 },
 "nbformat": 4,
 "nbformat_minor": 2
}
